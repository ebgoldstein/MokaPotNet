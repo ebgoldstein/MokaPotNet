{
 "cells": [
  {
   "cell_type": "code",
   "execution_count": 4,
   "metadata": {},
   "outputs": [
    {
     "name": "stdout",
     "output_type": "stream",
     "text": [
      "TF version: 2.3.2\n"
     ]
    }
   ],
   "source": [
    "# import the general stuff\n",
    "import os\n",
    "from os import getcwd\n",
    "import matplotlib.pyplot as plt\n",
    "import pandas as pd \n",
    "import numpy as np\n",
    "import math\n",
    "\n",
    "#import stuff for gradCAM\n",
    "import matplotlib.cm as cm\n",
    "from IPython.display import Image\n",
    "\n",
    "#import the tf stuff\n",
    "import tensorflow as tf\n",
    "from tensorflow.keras import layers\n",
    "from tensorflow.keras import Model\n",
    "\n",
    "from tensorflow.keras.preprocessing.image import ImageDataGenerator\n",
    "\n",
    "#import pruning stuff\n",
    "import tensorflow_model_optimization as tfmot\n",
    "\n",
    "#Check TensorFlow Version\n",
    "print('TF version: {}' .format(tf.__version__))"
   ]
  },
  {
   "cell_type": "code",
   "execution_count": 5,
   "metadata": {},
   "outputs": [],
   "source": [
    "# #code for GPU mem growth\n",
    "\n",
    "# from tensorflow.compat.v1 import ConfigProto\n",
    "# from tensorflow.compat.v1 import InteractiveSession\n",
    "\n",
    "# config = ConfigProto()\n",
    "# config.gpu_options.allow_growth = True\n",
    "# session = InteractiveSession(config=config)\n"
   ]
  },
  {
   "cell_type": "code",
   "execution_count": 6,
   "metadata": {},
   "outputs": [
    {
     "name": "stdout",
     "output_type": "stream",
     "text": [
      " GPU: /device:GPU:0\n"
     ]
    }
   ],
   "source": [
    "#Check for GPU utilization\n",
    "if tf.test.gpu_device_name():\n",
    "    print(' GPU: {}'.format(tf.test.gpu_device_name()))\n",
    "else:\n",
    "    print(\"No GPU\")"
   ]
  },
  {
   "cell_type": "code",
   "execution_count": 7,
   "metadata": {},
   "outputs": [],
   "source": [
    "# define a callback\n",
    "\n",
    "callbacks = tf.keras.callbacks.EarlyStopping(monitor = 'val_acc', \n",
    "                                             patience = 15, \n",
    "                                             restore_best_weights = True)"
   ]
  },
  {
   "cell_type": "code",
   "execution_count": 17,
   "metadata": {},
   "outputs": [
    {
     "name": "stdout",
     "output_type": "stream",
     "text": [
      "Found 84 images belonging to 2 classes.\n",
      "Found 20 images belonging to 2 classes.\n"
     ]
    }
   ],
   "source": [
    "#build data generators for training and validaton\n",
    "\n",
    "split = 0.2\n",
    "\n",
    "total_train = 84\n",
    "total_val = 20\n",
    "\n",
    "\n",
    "# Define dirs and files\n",
    "train_data_dir = '../data/portenta'\n",
    "\n",
    "# Add our data-augmentation parameters to ImageDataGenerator and split data\n",
    "train_datagen = ImageDataGenerator(rescale =1./255.,\n",
    "                                   rotation_range = 45,\n",
    "                                   width_shift_range = 0.1,\n",
    "                                   height_shift_range = 0.1,\n",
    "                                   shear_range = 0.1,\n",
    "                                   horizontal_flip = True,\n",
    "                                   vertical_flip = True,\n",
    "                                   validation_split = split)\n",
    "\n",
    "\n",
    "#set batch Size\n",
    "batch_size = 16\n",
    "\n",
    "#set Image size (RGB so imshape is 3)\n",
    "pix_dim = 320\n",
    "imsize = (pix_dim,pix_dim) \n",
    "imshape = (pix_dim,pix_dim,1)\n",
    "\n",
    "# Flow training images in batches \n",
    "train_generator = train_datagen.flow_from_directory(train_data_dir,\n",
    "                                                    batch_size = batch_size,\n",
    "                                                    class_mode = 'categorical',\n",
    "                                                    color_mode = 'grayscale',\n",
    "                                                    target_size = imsize,\n",
    "                                                    subset='training')\n",
    "\n",
    "# Flow validation images in batches \n",
    "validation_generator =  train_datagen.flow_from_directory(train_data_dir, # same directory as training data,\n",
    "                                                        batch_size = batch_size,\n",
    "                                                        class_mode = 'categorical',\n",
    "                                                        color_mode = 'grayscale',\n",
    "                                                        target_size = imsize,\n",
    "                                                        subset='validation')"
   ]
  },
  {
   "cell_type": "code",
   "execution_count": 18,
   "metadata": {},
   "outputs": [],
   "source": [
    "# define the metrics\n",
    "acc_metric = tf.keras.metrics.BinaryAccuracy(name='acc')"
   ]
  },
  {
   "cell_type": "code",
   "execution_count": 19,
   "metadata": {},
   "outputs": [
    {
     "name": "stdout",
     "output_type": "stream",
     "text": [
      "Model: \"sequential_1\"\n",
      "_________________________________________________________________\n",
      "Layer (type)                 Output Shape              Param #   \n",
      "=================================================================\n",
      "conv2d_3 (Conv2D)            (None, 160, 160, 16)      160       \n",
      "_________________________________________________________________\n",
      "max_pooling2d_3 (MaxPooling2 (None, 80, 80, 16)        0         \n",
      "_________________________________________________________________\n",
      "conv2d_4 (Conv2D)            (None, 40, 40, 32)        4640      \n",
      "_________________________________________________________________\n",
      "max_pooling2d_4 (MaxPooling2 (None, 20, 20, 32)        0         \n",
      "_________________________________________________________________\n",
      "conv2d_5 (Conv2D)            (None, 10, 10, 64)        18496     \n",
      "_________________________________________________________________\n",
      "max_pooling2d_5 (MaxPooling2 (None, 5, 5, 64)          0         \n",
      "_________________________________________________________________\n",
      "flatten_1 (Flatten)          (None, 1600)              0         \n",
      "_________________________________________________________________\n",
      "dense_3 (Dense)              (None, 128)               204928    \n",
      "_________________________________________________________________\n",
      "dropout_2 (Dropout)          (None, 128)               0         \n",
      "_________________________________________________________________\n",
      "dense_4 (Dense)              (None, 64)                8256      \n",
      "_________________________________________________________________\n",
      "dropout_3 (Dropout)          (None, 64)                0         \n",
      "_________________________________________________________________\n",
      "dense_5 (Dense)              (None, 2)                 130       \n",
      "=================================================================\n",
      "Total params: 236,610\n",
      "Trainable params: 236,610\n",
      "Non-trainable params: 0\n",
      "_________________________________________________________________\n"
     ]
    }
   ],
   "source": [
    "model = tf.keras.Sequential([\n",
    "    layers.InputLayer(input_shape=imshape),\n",
    "    layers.Conv2D(filters=16, kernel_size=3, strides = 2, padding='same', activation='relu'),\n",
    "    layers.MaxPool2D(),\n",
    "    \n",
    "    layers.Conv2D(32, 3, strides = 2, padding='same', activation='relu'),\n",
    "    layers.MaxPool2D(),\n",
    "\n",
    "    layers.Conv2D(64, 3, strides = 2, padding='same', activation='relu'),\n",
    "    layers.MaxPool2D(),\n",
    "    \n",
    "    layers.Flatten(),\n",
    "    layers.Dense(128, activation='relu'),\n",
    "    layers.Dropout(0.5),\n",
    "    layers.Dense(64, activation='relu'),\n",
    "    layers.Dropout(0.5),\n",
    "    layers.Dense(2,activation = \"softmax\")\n",
    "])\n",
    "\n",
    "model.summary()"
   ]
  },
  {
   "cell_type": "code",
   "execution_count": 20,
   "metadata": {},
   "outputs": [],
   "source": [
    "#build the model\n",
    "model.compile(loss = 'categorical_crossentropy',\n",
    "              optimizer = tf.keras.optimizers.Adam(),\n",
    "              metrics = acc_metric)"
   ]
  },
  {
   "cell_type": "code",
   "execution_count": 21,
   "metadata": {},
   "outputs": [
    {
     "name": "stdout",
     "output_type": "stream",
     "text": [
      "Epoch 1/40\n",
      "5/5 [==============================] - 0s 93ms/step - loss: 0.6945 - acc: 0.5588 - val_loss: 0.6999 - val_acc: 0.4375\n",
      "Epoch 2/40\n",
      "5/5 [==============================] - 0s 70ms/step - loss: 0.6883 - acc: 0.5441 - val_loss: 0.6760 - val_acc: 0.5625\n",
      "Epoch 3/40\n",
      "5/5 [==============================] - 0s 68ms/step - loss: 0.6846 - acc: 0.5294 - val_loss: 0.6802 - val_acc: 0.5000\n",
      "Epoch 4/40\n",
      "5/5 [==============================] - 0s 69ms/step - loss: 0.7062 - acc: 0.5000 - val_loss: 0.6735 - val_acc: 0.5625\n",
      "Epoch 5/40\n",
      "5/5 [==============================] - 0s 75ms/step - loss: 0.6734 - acc: 0.6176 - val_loss: 0.6715 - val_acc: 0.8750\n",
      "Epoch 6/40\n",
      "5/5 [==============================] - 0s 65ms/step - loss: 0.6784 - acc: 0.5294 - val_loss: 0.6621 - val_acc: 0.8750\n",
      "Epoch 7/40\n",
      "5/5 [==============================] - 0s 77ms/step - loss: 0.6707 - acc: 0.6500 - val_loss: 0.6607 - val_acc: 0.8750\n",
      "Epoch 8/40\n",
      "5/5 [==============================] - 0s 77ms/step - loss: 0.6463 - acc: 0.7375 - val_loss: 0.5872 - val_acc: 0.9375\n",
      "Epoch 9/40\n",
      "5/5 [==============================] - 0s 75ms/step - loss: 0.6531 - acc: 0.6250 - val_loss: 0.5860 - val_acc: 1.0000\n",
      "Epoch 10/40\n",
      "5/5 [==============================] - 0s 67ms/step - loss: 0.5655 - acc: 0.7794 - val_loss: 0.5693 - val_acc: 0.4375\n",
      "Epoch 11/40\n",
      "5/5 [==============================] - 0s 74ms/step - loss: 0.6326 - acc: 0.6375 - val_loss: 0.5660 - val_acc: 0.9375\n",
      "Epoch 12/40\n",
      "5/5 [==============================] - 0s 67ms/step - loss: 0.5404 - acc: 0.8088 - val_loss: 0.4757 - val_acc: 0.8750\n",
      "Epoch 13/40\n",
      "5/5 [==============================] - 0s 70ms/step - loss: 0.4906 - acc: 0.7941 - val_loss: 0.3680 - val_acc: 0.9375\n",
      "Epoch 14/40\n",
      "5/5 [==============================] - 0s 66ms/step - loss: 0.4782 - acc: 0.8529 - val_loss: 0.4681 - val_acc: 0.8125\n",
      "Epoch 15/40\n",
      "5/5 [==============================] - 0s 69ms/step - loss: 0.4493 - acc: 0.8088 - val_loss: 0.4666 - val_acc: 0.7500\n",
      "Epoch 16/40\n",
      "5/5 [==============================] - 0s 69ms/step - loss: 0.4923 - acc: 0.7941 - val_loss: 0.2415 - val_acc: 0.9375\n",
      "Epoch 17/40\n",
      "5/5 [==============================] - 0s 77ms/step - loss: 0.3840 - acc: 0.8250 - val_loss: 0.1615 - val_acc: 1.0000\n",
      "Epoch 18/40\n",
      "5/5 [==============================] - 0s 67ms/step - loss: 0.3078 - acc: 0.8824 - val_loss: 0.1603 - val_acc: 1.0000\n",
      "Epoch 19/40\n",
      "5/5 [==============================] - 0s 67ms/step - loss: 0.3200 - acc: 0.8971 - val_loss: 0.1362 - val_acc: 1.0000\n",
      "Epoch 20/40\n",
      "5/5 [==============================] - 0s 66ms/step - loss: 0.2996 - acc: 0.8971 - val_loss: 0.1303 - val_acc: 1.0000\n",
      "Epoch 21/40\n",
      "5/5 [==============================] - 0s 68ms/step - loss: 0.2799 - acc: 0.9265 - val_loss: 0.1458 - val_acc: 0.9375\n",
      "Epoch 22/40\n",
      "5/5 [==============================] - 0s 68ms/step - loss: 0.2939 - acc: 0.8824 - val_loss: 0.0938 - val_acc: 1.0000\n",
      "Epoch 23/40\n",
      "5/5 [==============================] - 0s 68ms/step - loss: 0.4295 - acc: 0.8088 - val_loss: 0.1870 - val_acc: 1.0000\n",
      "Epoch 24/40\n",
      "5/5 [==============================] - 0s 67ms/step - loss: 0.3220 - acc: 0.8971 - val_loss: 0.1653 - val_acc: 1.0000\n"
     ]
    }
   ],
   "source": [
    "#train the model\n",
    "history = model.fit(train_generator,\n",
    "                    steps_per_epoch = total_train // batch_size,\n",
    "                    validation_data = validation_generator,\n",
    "                    epochs= 40,\n",
    "                    validation_steps =  total_val // batch_size,\n",
    "                    callbacks =[callbacks])"
   ]
  },
  {
   "cell_type": "code",
   "execution_count": 22,
   "metadata": {},
   "outputs": [
    {
     "data": {
      "image/png": "[encoded data removed]",
      "text/plain": [
       "<Figure size 432x288 with 1 Axes>"
      ]
     },
     "metadata": {
      "needs_background": "light"
     },
     "output_type": "display_data"
    },
    {
     "data": {
      "text/plain": [
       "<Figure size 432x288 with 0 Axes>"
      ]
     },
     "metadata": {},
     "output_type": "display_data"
    },
    {
     "data": {
      "image/png": "[encoded data removed]",
      "text/plain": [
       "<Figure size 432x288 with 1 Axes>"
      ]
     },
     "metadata": {
      "needs_background": "light"
     },
     "output_type": "display_data"
    },
    {
     "data": {
      "text/plain": [
       "<Figure size 432x288 with 0 Axes>"
      ]
     },
     "metadata": {},
     "output_type": "display_data"
    }
   ],
   "source": [
    "#look at the metrics from training\n",
    "%matplotlib inline\n",
    "\n",
    "acc = history.history['acc']\n",
    "val_acc = history.history['val_acc']\n",
    "loss = history.history['loss']\n",
    "val_loss = history.history['val_loss']\n",
    "\n",
    "epochs = range(len(acc))\n",
    "\n",
    "plt.plot(epochs, acc, 'r', label='Training accuracy')\n",
    "plt.plot(epochs, val_acc, 'b', label='Validation accuracy')\n",
    "\n",
    "plt.title('Training and validation accuracy')\n",
    "plt.legend(loc=0)\n",
    "plt.figure()\n",
    "plt.show()\n",
    "\n",
    "plt.plot(epochs, loss, 'r--', label='Training loss')\n",
    "plt.plot(epochs, val_loss, 'b--', label='Validation loss')\n",
    "plt.title('Training and validation loss') \n",
    "plt.legend(loc=0)\n",
    "plt.figure()\n",
    "plt.show()"
   ]
  },
  {
   "cell_type": "code",
   "execution_count": 24,
   "metadata": {},
   "outputs": [
    {
     "name": "stdout",
     "output_type": "stream",
     "text": [
      "INFO:tensorflow:Assets written to: ./models/MokaPotNet_reg/assets\n"
     ]
    }
   ],
   "source": [
    "#save the model\n",
    "filepath = './models/MokaPotNet_reg'\n",
    "model.save(filepath)\n"
   ]
  },
  {
   "cell_type": "code",
   "execution_count": 33,
   "metadata": {},
   "outputs": [
    {
     "name": "stdout",
     "output_type": "stream",
     "text": [
      "Model: \"sequential_1\"\n",
      "_________________________________________________________________\n",
      "Layer (type)                 Output Shape              Param #   \n",
      "=================================================================\n",
      "prune_low_magnitude_conv2d_3 (None, 160, 160, 16)      306       \n",
      "_________________________________________________________________\n",
      "prune_low_magnitude_max_pool (None, 80, 80, 16)        1         \n",
      "_________________________________________________________________\n",
      "prune_low_magnitude_conv2d_4 (None, 40, 40, 32)        9250      \n",
      "_________________________________________________________________\n",
      "prune_low_magnitude_max_pool (None, 20, 20, 32)        1         \n",
      "_________________________________________________________________\n",
      "prune_low_magnitude_conv2d_5 (None, 10, 10, 64)        36930     \n",
      "_________________________________________________________________\n",
      "prune_low_magnitude_max_pool (None, 5, 5, 64)          1         \n",
      "_________________________________________________________________\n",
      "prune_low_magnitude_flatten_ (None, 1600)              1         \n",
      "_________________________________________________________________\n",
      "prune_low_magnitude_dense_3  (None, 128)               409730    \n",
      "_________________________________________________________________\n",
      "prune_low_magnitude_dropout_ (None, 128)               1         \n",
      "_________________________________________________________________\n",
      "prune_low_magnitude_dense_4  (None, 64)                16450     \n",
      "_________________________________________________________________\n",
      "prune_low_magnitude_dropout_ (None, 64)                1         \n",
      "_________________________________________________________________\n",
      "prune_low_magnitude_dense_5  (None, 2)                 260       \n",
      "=================================================================\n",
      "Total params: 472,932\n",
      "Trainable params: 236,610\n",
      "Non-trainable params: 236,322\n",
      "_________________________________________________________________\n"
     ]
    }
   ],
   "source": [
    "prune_low_magnitude = tfmot.sparsity.keras.prune_low_magnitude\n",
    "\n",
    "\n",
    "epochs = 10\n",
    "\n",
    "\n",
    "end_step = np.ceil(1.0 * total_train / batch_size).astype(np.int32) * epochs\n",
    "\n",
    "# Define model for pruning.\n",
    "pruning_params = {\n",
    "      'pruning_schedule': tfmot.sparsity.keras.PolynomialDecay(initial_sparsity=0.50,\n",
    "                                                               final_sparsity=0.8,\n",
    "                                                               begin_step=0,\n",
    "                                                               end_step=end_step)\n",
    "}\n",
    "\n",
    "model_for_pruning = prune_low_magnitude(model, **pruning_params)\n",
    "\n",
    "# `prune_low_magnitude` requires a recompile.\n",
    "model_for_pruning.compile(loss = 'categorical_crossentropy',\n",
    "              optimizer = tf.keras.optimizers.Adam(),\n",
    "              metrics = acc_metric)\n",
    "\n",
    "model_for_pruning.summary()\n"
   ]
  },
  {
   "cell_type": "code",
   "execution_count": 34,
   "metadata": {},
   "outputs": [
    {
     "name": "stdout",
     "output_type": "stream",
     "text": [
      "Epoch 1/10\n",
      "5/5 [==============================] - 1s 113ms/step - loss: 0.2756 - acc: 0.8810 - val_loss: 0.0637 - val_acc: 1.0000\n",
      "Epoch 2/10\n",
      "5/5 [==============================] - 0s 70ms/step - loss: 0.3391 - acc: 0.8971 - val_loss: 0.1300 - val_acc: 0.9375\n",
      "Epoch 3/10\n",
      "5/5 [==============================] - 0s 78ms/step - loss: 0.1773 - acc: 0.9625 - val_loss: 0.0494 - val_acc: 1.0000\n",
      "Epoch 4/10\n",
      "5/5 [==============================] - 0s 76ms/step - loss: 0.1999 - acc: 0.9375 - val_loss: 0.0835 - val_acc: 0.9375\n",
      "Epoch 5/10\n",
      "5/5 [==============================] - 0s 70ms/step - loss: 0.1866 - acc: 0.9412 - val_loss: 0.0548 - val_acc: 1.0000\n",
      "Epoch 6/10\n",
      "5/5 [==============================] - 0s 69ms/step - loss: 0.2400 - acc: 0.9265 - val_loss: 0.0973 - val_acc: 1.0000\n",
      "Epoch 7/10\n",
      "5/5 [==============================] - 0s 78ms/step - loss: 0.1930 - acc: 0.9250 - val_loss: 0.0312 - val_acc: 1.0000\n",
      "Epoch 8/10\n",
      "5/5 [==============================] - 0s 69ms/step - loss: 0.2175 - acc: 0.9412 - val_loss: 0.0391 - val_acc: 1.0000\n",
      "Epoch 9/10\n",
      "5/5 [==============================] - 0s 70ms/step - loss: 0.1622 - acc: 0.9559 - val_loss: 0.0504 - val_acc: 1.0000\n",
      "Epoch 10/10\n",
      "5/5 [==============================] - 0s 78ms/step - loss: 0.1760 - acc: 0.9412 - val_loss: 0.0291 - val_acc: 1.0000\n"
     ]
    }
   ],
   "source": [
    "callbacks = [\n",
    "  tfmot.sparsity.keras.UpdatePruningStep()\n",
    "]\n",
    "\n",
    "phistory = model_for_pruning.fit(train_generator,\n",
    "                    steps_per_epoch = total_train // batch_size,\n",
    "                    validation_data = validation_generator,\n",
    "                    epochs= epochs,\n",
    "                    validation_steps =  total_val // batch_size,\n",
    "                    callbacks =callbacks)"
   ]
  },
  {
   "cell_type": "code",
   "execution_count": 35,
   "metadata": {},
   "outputs": [
    {
     "data": {
      "image/png": "[encoded data removed]",
      "text/plain": [
       "<Figure size 432x288 with 1 Axes>"
      ]
     },
     "metadata": {
      "needs_background": "light"
     },
     "output_type": "display_data"
    },
    {
     "data": {
      "text/plain": [
       "<Figure size 432x288 with 0 Axes>"
      ]
     },
     "metadata": {},
     "output_type": "display_data"
    },
    {
     "data": {
      "image/png": "[encoded data removed]",
      "text/plain": [
       "<Figure size 432x288 with 1 Axes>"
      ]
     },
     "metadata": {
      "needs_background": "light"
     },
     "output_type": "display_data"
    },
    {
     "data": {
      "text/plain": [
       "<Figure size 432x288 with 0 Axes>"
      ]
     },
     "metadata": {},
     "output_type": "display_data"
    }
   ],
   "source": [
    "#look at the metrics from training\n",
    "%matplotlib inline\n",
    "\n",
    "acc = phistory.history['acc']\n",
    "val_acc = phistory.history['val_acc']\n",
    "loss = phistory.history['loss']\n",
    "val_loss = phistory.history['val_loss']\n",
    "\n",
    "epochs = range(len(acc))\n",
    "\n",
    "plt.plot(epochs, acc, 'r', label='Training accuracy')\n",
    "plt.plot(epochs, val_acc, 'b', label='Validation accuracy')\n",
    "\n",
    "plt.title('Training and validation accuracy')\n",
    "plt.legend(loc=0)\n",
    "plt.figure()\n",
    "plt.show()\n",
    "\n",
    "plt.plot(epochs, loss, 'r--', label='Training loss')\n",
    "plt.plot(epochs, val_loss, 'b--', label='Validation loss')\n",
    "plt.title('Training and validation loss') \n",
    "plt.legend(loc=0)\n",
    "plt.figure()\n",
    "plt.show()"
   ]
  },
  {
   "cell_type": "code",
   "execution_count": 37,
   "metadata": {},
   "outputs": [
    {
     "name": "stdout",
     "output_type": "stream",
     "text": [
      "INFO:tensorflow:Assets written to: /tmp/tmp4gucy4eu/assets\n"
     ]
    },
    {
     "name": "stderr",
     "output_type": "stream",
     "text": [
      "INFO:tensorflow:Assets written to: /tmp/tmp4gucy4eu/assets\n"
     ]
    },
    {
     "name": "stdout",
     "output_type": "stream",
     "text": [
      "(84, 320, 320, 1)\n",
      "input:  <class 'numpy.int8'>\n",
      "output:  <class 'numpy.int8'>\n"
     ]
    }
   ],
   "source": [
    "#get the pruned model ready\n",
    "model_for_export = tfmot.sparsity.keras.strip_pruning(model_for_pruning)\n",
    "\n",
    "\n",
    "\n",
    "# #quantize\n",
    "\n",
    "converter = tf.lite.TFLiteConverter.from_keras_model(model_for_export)\n",
    "\n",
    "converter.optimizations = [tf.lite.Optimize.DEFAULT]\n",
    "\n",
    "\n",
    "\n",
    "num_calibration_steps = 1\n",
    "def representative_dataset_gen():\n",
    "    for _ in range(num_calibration_steps):\n",
    "        # Get sample input data as a numpy array in a method of your choosing.\n",
    "        ## Ideally we should do a validation calibration but we are using all of the training data for max acc\n",
    "#         x =np.concatenate([validation_generator.next()[0] for i in range(validation_generator.__len__())])\n",
    "        x =np.concatenate([train_generator.next()[0] for i in range(train_generator.__len__())])\n",
    "        print(x.shape)\n",
    "        yield [x]\n",
    "converter.representative_dataset = representative_dataset_gen\n",
    "\n",
    "\n",
    "converter.target_spec.supported_ops = [tf.lite.OpsSet.TFLITE_BUILTINS_INT8]\n",
    "converter.inference_input_type = tf.int8  # or tf.uint8\n",
    "converter.inference_output_type = tf.int8  # or tf.uint8\n",
    "\n",
    "tflite_model = converter.convert()\n",
    "\n",
    "with open('MokaPotNet_QuantPruned.tflite','wb') as f:\n",
    "    f.write(tflite_model)\n",
    "\n",
    "interpreter = tf.lite.Interpreter(model_content=tflite_model)\n",
    "input_type = interpreter.get_input_details()[0]['dtype']\n",
    "print('input: ', input_type)\n",
    "output_type = interpreter.get_output_details()[0]['dtype']\n",
    "print('output: ', output_type)\n",
    "\n"
   ]
  },
  {
   "cell_type": "code",
   "execution_count": 42,
   "metadata": {},
   "outputs": [
    {
     "name": "stdout",
     "output_type": "stream",
     "text": [
      "Size of gzipped baseline Keras model: 22339.00 bytes\n",
      "Size of gzipped unpruned TFlite model: 231947.00 bytes\n",
      "Size of gzipped pruned TFlite model: 128316.00 bytes\n"
     ]
    }
   ],
   "source": [
    "import os\n",
    "import zipfile\n",
    "import tempfile\n",
    "\n",
    "def get_gzipped_model_size(file):\n",
    "   #Returns size of gzipped model, in bytes.\n",
    "    _, zipped_file = tempfile.mkstemp('.zip')\n",
    "    with zipfile.ZipFile(zipped_file, 'w', compression=zipfile.ZIP_DEFLATED) as f:\n",
    "        f.write(file)\n",
    "    return os.path.getsize(zipped_file)\n",
    "\n",
    "print(\"Size of gzipped baseline Keras model: %.2f bytes\" % (get_gzipped_model_size('./models/MokaPotNet_reg/saved_model.pb')))\n",
    "print(\"Size of gzipped unpruned TFlite model: %.2f bytes\" % (get_gzipped_model_size('./models/MokaPotNet_cat_portenta.tflite')))\n",
    "print(\"Size of gzipped pruned TFlite model: %.2f bytes\" % (get_gzipped_model_size( './models/MokaPotNet_QuantPruned.tflite' )))\n"
   ]
  },
  {
   "cell_type": "code",
   "execution_count": null,
   "metadata": {},
   "outputs": [],
   "source": [
    "# This will also decrease latency.."
   ]
  }
 ],
 "metadata": {
  "kernelspec": {
   "display_name": "Python 3",
   "language": "python",
   "name": "python3"
  },
  "language_info": {
   "codemirror_mode": {
    "name": "ipython",
    "version": 3
   },
   "file_extension": ".py",
   "mimetype": "text/x-python",
   "name": "python",
   "nbconvert_exporter": "python",
   "pygments_lexer": "ipython3",
   "version": "3.8.10"
  }
 },
 "nbformat": 4,
 "nbformat_minor": 4
}

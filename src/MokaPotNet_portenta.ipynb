{
 "cells": [
  {
   "cell_type": "code",
   "execution_count": 1,
   "metadata": {},
   "outputs": [
    {
     "name": "stdout",
     "output_type": "stream",
     "text": [
      "TF version: 2.3.0\n"
     ]
    }
   ],
   "source": [
    "# import the general stuff\n",
    "import os\n",
    "from os import getcwd\n",
    "import matplotlib.pyplot as plt\n",
    "import pandas as pd \n",
    "import numpy as np\n",
    "import math\n",
    "\n",
    "#import stuff for gradCAM\n",
    "import matplotlib.cm as cm\n",
    "from IPython.display import Image\n",
    "\n",
    "#import the tf stuff\n",
    "import tensorflow as tf\n",
    "from tensorflow.keras import layers\n",
    "from tensorflow.keras import Model\n",
    "\n",
    "from tensorflow.keras.preprocessing.image import ImageDataGenerator\n",
    "\n",
    "#Check TensorFlow Version\n",
    "print('TF version: {}' .format(tf.__version__))"
   ]
  },
  {
   "cell_type": "code",
   "execution_count": 3,
   "metadata": {},
   "outputs": [],
   "source": [
    "# #code for GPU mem growth\n",
    "\n",
    "# from tensorflow.compat.v1 import ConfigProto\n",
    "# from tensorflow.compat.v1 import InteractiveSession\n",
    "\n",
    "# config = ConfigProto()\n",
    "# config.gpu_options.allow_growth = True\n",
    "# session = InteractiveSession(config=config)\n"
   ]
  },
  {
   "cell_type": "code",
   "execution_count": 2,
   "metadata": {},
   "outputs": [
    {
     "name": "stdout",
     "output_type": "stream",
     "text": [
      "No GPU\n"
     ]
    },
    {
     "name": "stderr",
     "output_type": "stream",
     "text": [
      "2022-01-27 08:30:27.665684: I tensorflow/core/platform/cpu_feature_guard.cc:142] This TensorFlow binary is optimized with oneAPI Deep Neural Network Library (oneDNN)to use the following CPU instructions in performance-critical operations:  SSE4.1 SSE4.2 AVX AVX2 AVX512F FMA\n",
      "To enable them in other operations, rebuild TensorFlow with the appropriate compiler flags.\n",
      "2022-01-27 08:30:27.690498: I tensorflow/core/platform/profile_utils/cpu_utils.cc:104] CPU Frequency: 2419200000 Hz\n",
      "2022-01-27 08:30:27.690874: I tensorflow/compiler/xla/service/service.cc:168] XLA service 0x55bd43f5b380 initialized for platform Host (this does not guarantee that XLA will be used). Devices:\n",
      "2022-01-27 08:30:27.690891: I tensorflow/compiler/xla/service/service.cc:176]   StreamExecutor device (0): Host, Default Version\n"
     ]
    }
   ],
   "source": [
    "#Check for GPU utilization\n",
    "if tf.test.gpu_device_name():\n",
    "    print(' GPU: {}'.format(tf.test.gpu_device_name()))\n",
    "else:\n",
    "    print(\"No GPU\")"
   ]
  },
  {
   "cell_type": "code",
   "execution_count": 3,
   "metadata": {},
   "outputs": [],
   "source": [
    "# define a callback\n",
    "\n",
    "callbacks = tf.keras.callbacks.EarlyStopping(monitor = 'val_acc', \n",
    "                                             patience = 15, \n",
    "                                             restore_best_weights = True)"
   ]
  },
  {
   "cell_type": "code",
   "execution_count": 19,
   "metadata": {},
   "outputs": [
    {
     "name": "stdout",
     "output_type": "stream",
     "text": [
      "Found 84 images belonging to 2 classes.\n",
      "Found 20 images belonging to 2 classes.\n"
     ]
    }
   ],
   "source": [
    "#build data generators for training and validaton\n",
    "\n",
    "split = 0.2\n",
    "\n",
    "total_train = 84\n",
    "total_val = 20\n",
    "\n",
    "\n",
    "# Define dirs and files\n",
    "train_data_dir = '../data'\n",
    "\n",
    "# Add our data-augmentation parameters to ImageDataGenerator and split data\n",
    "train_datagen = ImageDataGenerator(rescale =1./255.,\n",
    "                                   rotation_range = 45,\n",
    "                                   width_shift_range = 0.1,\n",
    "                                   height_shift_range = 0.1,\n",
    "                                   shear_range = 0.1,\n",
    "                                   horizontal_flip = True,\n",
    "                                   vertical_flip = True,\n",
    "                                   validation_split = split)\n",
    "\n",
    "\n",
    "#set batch Size\n",
    "batch_size = 16\n",
    "\n",
    "#set Image size (RGB so imshape is 3)\n",
    "pix_dim = 320\n",
    "imsize = (pix_dim,pix_dim) \n",
    "imshape = (pix_dim,pix_dim,1)\n",
    "\n",
    "# Flow training images in batches \n",
    "train_generator = train_datagen.flow_from_directory(train_data_dir,\n",
    "                                                    batch_size = batch_size,\n",
    "                                                    class_mode = 'categorical',\n",
    "                                                    color_mode = 'grayscale',\n",
    "                                                    target_size = imsize,\n",
    "                                                    subset='training')\n",
    "\n",
    "# Flow validation images in batches \n",
    "validation_generator =  train_datagen.flow_from_directory(train_data_dir, # same directory as training data,\n",
    "                                                        batch_size = batch_size,\n",
    "                                                        class_mode = 'categorical',\n",
    "                                                        color_mode = 'grayscale',\n",
    "                                                        target_size = imsize,\n",
    "                                                        subset='validation')"
   ]
  },
  {
   "cell_type": "code",
   "execution_count": 20,
   "metadata": {},
   "outputs": [],
   "source": [
    "# define the metrics\n",
    "acc_metric = tf.keras.metrics.BinaryAccuracy(name='acc')"
   ]
  },
  {
   "cell_type": "code",
   "execution_count": 21,
   "metadata": {},
   "outputs": [
    {
     "name": "stdout",
     "output_type": "stream",
     "text": [
      "Model: \"sequential_3\"\n",
      "_________________________________________________________________\n",
      "Layer (type)                 Output Shape              Param #   \n",
      "=================================================================\n",
      "conv2d_9 (Conv2D)            (None, 160, 160, 16)      160       \n",
      "_________________________________________________________________\n",
      "max_pooling2d_9 (MaxPooling2 (None, 80, 80, 16)        0         \n",
      "_________________________________________________________________\n",
      "conv2d_10 (Conv2D)           (None, 40, 40, 32)        4640      \n",
      "_________________________________________________________________\n",
      "max_pooling2d_10 (MaxPooling (None, 20, 20, 32)        0         \n",
      "_________________________________________________________________\n",
      "conv2d_11 (Conv2D)           (None, 10, 10, 64)        18496     \n",
      "_________________________________________________________________\n",
      "max_pooling2d_11 (MaxPooling (None, 5, 5, 64)          0         \n",
      "_________________________________________________________________\n",
      "flatten_3 (Flatten)          (None, 1600)              0         \n",
      "_________________________________________________________________\n",
      "dense_9 (Dense)              (None, 128)               204928    \n",
      "_________________________________________________________________\n",
      "dropout_6 (Dropout)          (None, 128)               0         \n",
      "_________________________________________________________________\n",
      "dense_10 (Dense)             (None, 64)                8256      \n",
      "_________________________________________________________________\n",
      "dropout_7 (Dropout)          (None, 64)                0         \n",
      "_________________________________________________________________\n",
      "dense_11 (Dense)             (None, 2)                 130       \n",
      "=================================================================\n",
      "Total params: 236,610\n",
      "Trainable params: 236,610\n",
      "Non-trainable params: 0\n",
      "_________________________________________________________________\n"
     ]
    }
   ],
   "source": [
    "model = tf.keras.Sequential([\n",
    "    layers.InputLayer(input_shape=imshape),\n",
    "    layers.Conv2D(filters=16, kernel_size=3, strides = 2, padding='same', activation='relu'),\n",
    "    layers.MaxPool2D(),\n",
    "    \n",
    "    layers.Conv2D(32, 3, strides = 2, padding='same', activation='relu'),\n",
    "    layers.MaxPool2D(),\n",
    "\n",
    "    layers.Conv2D(64, 3, strides = 2, padding='same', activation='relu'),\n",
    "    layers.MaxPool2D(),\n",
    "    \n",
    "    layers.Flatten(),\n",
    "    layers.Dense(128, activation='relu'),\n",
    "    layers.Dropout(0.5),\n",
    "    layers.Dense(64, activation='relu'),\n",
    "    layers.Dropout(0.5),\n",
    "    layers.Dense(2,activation = \"softmax\")\n",
    "])\n",
    "\n",
    "model.summary()"
   ]
  },
  {
   "cell_type": "code",
   "execution_count": 23,
   "metadata": {},
   "outputs": [],
   "source": [
    "#build the model\n",
    "model.compile(loss = 'categorical_crossentropy',\n",
    "              optimizer = tf.keras.optimizers.Adam(),\n",
    "              metrics = acc_metric)"
   ]
  },
  {
   "cell_type": "code",
   "execution_count": 24,
   "metadata": {},
   "outputs": [
    {
     "name": "stdout",
     "output_type": "stream",
     "text": [
      "Epoch 1/40\n",
      "5/5 [==============================] - 1s 120ms/step - loss: 0.6946 - acc: 0.5294 - val_loss: 0.6893 - val_acc: 0.5000\n",
      "Epoch 2/40\n",
      "5/5 [==============================] - 0s 93ms/step - loss: 0.6951 - acc: 0.5000 - val_loss: 0.6812 - val_acc: 0.5625\n",
      "Epoch 3/40\n",
      "5/5 [==============================] - 0s 94ms/step - loss: 0.6976 - acc: 0.5441 - val_loss: 0.6782 - val_acc: 0.5000\n",
      "Epoch 4/40\n",
      "5/5 [==============================] - 1s 123ms/step - loss: 0.6994 - acc: 0.5441 - val_loss: 0.6703 - val_acc: 0.5625\n",
      "Epoch 5/40\n",
      "5/5 [==============================] - 1s 114ms/step - loss: 0.6835 - acc: 0.5750 - val_loss: 0.6734 - val_acc: 0.5625\n",
      "Epoch 6/40\n",
      "5/5 [==============================] - 1s 105ms/step - loss: 0.6922 - acc: 0.4853 - val_loss: 0.6662 - val_acc: 0.5000\n",
      "Epoch 7/40\n",
      "5/5 [==============================] - 1s 128ms/step - loss: 0.6707 - acc: 0.6324 - val_loss: 0.6640 - val_acc: 0.5625\n",
      "Epoch 8/40\n",
      "5/5 [==============================] - 1s 117ms/step - loss: 0.6601 - acc: 0.6500 - val_loss: 0.6542 - val_acc: 0.6875\n",
      "Epoch 9/40\n",
      "5/5 [==============================] - 1s 100ms/step - loss: 0.6532 - acc: 0.6618 - val_loss: 0.6216 - val_acc: 0.9375\n",
      "Epoch 10/40\n",
      "5/5 [==============================] - 1s 109ms/step - loss: 0.6170 - acc: 0.7353 - val_loss: 0.6357 - val_acc: 0.5625\n",
      "Epoch 11/40\n",
      "5/5 [==============================] - 1s 108ms/step - loss: 0.6735 - acc: 0.5294 - val_loss: 0.5563 - val_acc: 1.0000\n",
      "Epoch 12/40\n",
      "5/5 [==============================] - 1s 106ms/step - loss: 0.5675 - acc: 0.7206 - val_loss: 0.4716 - val_acc: 1.0000\n",
      "Epoch 13/40\n",
      "5/5 [==============================] - 1s 109ms/step - loss: 0.5173 - acc: 0.7647 - val_loss: 0.3470 - val_acc: 1.0000\n",
      "Epoch 14/40\n",
      "5/5 [==============================] - 1s 116ms/step - loss: 0.5114 - acc: 0.7647 - val_loss: 0.3195 - val_acc: 1.0000\n",
      "Epoch 15/40\n",
      "5/5 [==============================] - 1s 124ms/step - loss: 0.3975 - acc: 0.8125 - val_loss: 0.3552 - val_acc: 0.8125\n",
      "Epoch 16/40\n",
      "5/5 [==============================] - 1s 112ms/step - loss: 0.4806 - acc: 0.8088 - val_loss: 0.1670 - val_acc: 1.0000\n",
      "Epoch 17/40\n",
      "5/5 [==============================] - 1s 125ms/step - loss: 0.3984 - acc: 0.8625 - val_loss: 0.1824 - val_acc: 1.0000\n",
      "Epoch 18/40\n",
      "5/5 [==============================] - 1s 111ms/step - loss: 0.2793 - acc: 0.8971 - val_loss: 0.1231 - val_acc: 1.0000\n",
      "Epoch 19/40\n",
      "5/5 [==============================] - 1s 107ms/step - loss: 0.3119 - acc: 0.8824 - val_loss: 0.2516 - val_acc: 0.8750\n",
      "Epoch 20/40\n",
      "5/5 [==============================] - 1s 105ms/step - loss: 0.2917 - acc: 0.8824 - val_loss: 0.0668 - val_acc: 1.0000\n",
      "Epoch 21/40\n",
      "5/5 [==============================] - 1s 107ms/step - loss: 0.1819 - acc: 0.9559 - val_loss: 0.6192 - val_acc: 0.6875\n",
      "Epoch 22/40\n",
      "5/5 [==============================] - 1s 104ms/step - loss: 0.3358 - acc: 0.8529 - val_loss: 0.0757 - val_acc: 1.0000\n",
      "Epoch 23/40\n",
      "5/5 [==============================] - 1s 132ms/step - loss: 0.3664 - acc: 0.8382 - val_loss: 0.0537 - val_acc: 1.0000\n",
      "Epoch 24/40\n",
      "5/5 [==============================] - 1s 106ms/step - loss: 0.4296 - acc: 0.8382 - val_loss: 0.8209 - val_acc: 0.5625\n",
      "Epoch 25/40\n",
      "5/5 [==============================] - 1s 102ms/step - loss: 0.3553 - acc: 0.8824 - val_loss: 0.1276 - val_acc: 1.0000\n",
      "Epoch 26/40\n",
      "5/5 [==============================] - 1s 109ms/step - loss: 0.2780 - acc: 0.8971 - val_loss: 0.1304 - val_acc: 1.0000\n"
     ]
    }
   ],
   "source": [
    "#train the model\n",
    "history = model.fit(train_generator,\n",
    "                    steps_per_epoch = total_train // batch_size,\n",
    "                    validation_data = validation_generator,\n",
    "                    epochs= 40,\n",
    "                    validation_steps =  total_val // batch_size,\n",
    "                    callbacks =[callbacks])"
   ]
  },
  {
   "cell_type": "code",
   "execution_count": 25,
   "metadata": {},
   "outputs": [
    {
     "data": {
      "image/png": "[encoded data removed]",
      "text/plain": [
       "<Figure size 432x288 with 1 Axes>"
      ]
     },
     "metadata": {
      "needs_background": "light"
     },
     "output_type": "display_data"
    },
    {
     "data": {
      "text/plain": [
       "<Figure size 432x288 with 0 Axes>"
      ]
     },
     "metadata": {},
     "output_type": "display_data"
    },
    {
     "data": {
      "image/png": "[encoded data removed]",
      "text/plain": [
       "<Figure size 432x288 with 1 Axes>"
      ]
     },
     "metadata": {
      "needs_background": "light"
     },
     "output_type": "display_data"
    },
    {
     "data": {
      "text/plain": [
       "<Figure size 432x288 with 0 Axes>"
      ]
     },
     "metadata": {},
     "output_type": "display_data"
    }
   ],
   "source": [
    "#look at the metrics from training\n",
    "%matplotlib inline\n",
    "\n",
    "acc = history.history['acc']\n",
    "val_acc = history.history['val_acc']\n",
    "loss = history.history['loss']\n",
    "val_loss = history.history['val_loss']\n",
    "\n",
    "epochs = range(len(acc))\n",
    "\n",
    "plt.plot(epochs, acc, 'r', label='Training accuracy')\n",
    "plt.plot(epochs, val_acc, 'b', label='Validation accuracy')\n",
    "\n",
    "plt.title('Training and validation accuracy')\n",
    "plt.legend(loc=0)\n",
    "plt.figure()\n",
    "plt.show()\n",
    "\n",
    "plt.plot(epochs, loss, 'r--', label='Training loss')\n",
    "plt.plot(epochs, val_loss, 'b--', label='Validation loss')\n",
    "plt.title('Training and validation loss') \n",
    "plt.legend(loc=0)\n",
    "plt.figure()\n",
    "plt.show()"
   ]
  },
  {
   "cell_type": "code",
   "execution_count": 26,
   "metadata": {},
   "outputs": [
    {
     "name": "stdout",
     "output_type": "stream",
     "text": [
      "INFO:tensorflow:Assets written to: ./models/MokaPotNet_tf23_cat/assets\n"
     ]
    },
    {
     "name": "stderr",
     "output_type": "stream",
     "text": [
      "INFO:tensorflow:Assets written to: ./models/MokaPotNet_tf23_cat/assets\n"
     ]
    }
   ],
   "source": [
    "#save the model\n",
    "filepath = './models/MokaPotNet_tf23_cat'\n",
    "model.save(filepath)\n"
   ]
  },
  {
   "cell_type": "code",
   "execution_count": 27,
   "metadata": {},
   "outputs": [
    {
     "name": "stdout",
     "output_type": "stream",
     "text": [
      "INFO:tensorflow:Assets written to: /tmp/tmpqjcjblt_/assets\n"
     ]
    },
    {
     "name": "stderr",
     "output_type": "stream",
     "text": [
      "INFO:tensorflow:Assets written to: /tmp/tmpqjcjblt_/assets\n",
      "2022-01-27 08:44:43.691847: I tensorflow/core/grappler/devices.cc:78] Number of eligible GPUs (core count >= 8, compute capability >= 0.0): 0 (Note: TensorFlow was not compiled with CUDA or ROCm support)\n",
      "2022-01-27 08:44:43.691962: I tensorflow/core/grappler/clusters/single_machine.cc:356] Starting new session\n",
      "2022-01-27 08:44:43.693122: I tensorflow/core/grappler/optimizers/meta_optimizer.cc:816] Optimization results for grappler item: graph_to_optimize\n",
      "2022-01-27 08:44:43.693140: I tensorflow/core/grappler/optimizers/meta_optimizer.cc:818]   function_optimizer: function_optimizer did nothing. time = 0.002ms.\n",
      "2022-01-27 08:44:43.693142: I tensorflow/core/grappler/optimizers/meta_optimizer.cc:818]   function_optimizer: function_optimizer did nothing. time = 0ms.\n",
      "2022-01-27 08:44:43.729476: W tensorflow/compiler/mlir/lite/python/tf_tfl_flatbuffer_helpers.cc:313] Ignored output_format.\n",
      "2022-01-27 08:44:43.729508: W tensorflow/compiler/mlir/lite/python/tf_tfl_flatbuffer_helpers.cc:316] Ignored drop_control_dependency.\n"
     ]
    },
    {
     "name": "stdout",
     "output_type": "stream",
     "text": [
      "(84, 320, 320, 1)\n",
      "input:  <class 'numpy.int8'>\n",
      "output:  <class 'numpy.int8'>\n"
     ]
    }
   ],
   "source": [
    "# #quantize\n",
    "\n",
    "converter = tf.lite.TFLiteConverter.from_keras_model(model)\n",
    "\n",
    "converter.optimizations = [tf.lite.Optimize.DEFAULT]\n",
    "\n",
    "\n",
    "\n",
    "num_calibration_steps = 1\n",
    "def representative_dataset_gen():\n",
    "    for _ in range(num_calibration_steps):\n",
    "        # Get sample input data as a numpy array in a method of your choosing.\n",
    "        ## Ideally we should do a validation calibration but we are using all of the training data for max acc\n",
    "#         x =np.concatenate([validation_generator.next()[0] for i in range(validation_generator.__len__())])\n",
    "        x =np.concatenate([train_generator.next()[0] for i in range(train_generator.__len__())])\n",
    "        print(x.shape)\n",
    "        yield [x]\n",
    "converter.representative_dataset = representative_dataset_gen\n",
    "\n",
    "\n",
    "converter.target_spec.supported_ops = [tf.lite.OpsSet.TFLITE_BUILTINS_INT8]\n",
    "converter.inference_input_type = tf.int8  # or tf.uint8\n",
    "converter.inference_output_type = tf.int8  # or tf.uint8\n",
    "\n",
    "tflite_model = converter.convert()\n",
    "\n",
    "with open('MokaPotNet_cat.tflite','wb') as f:\n",
    "    f.write(tflite_model)\n",
    "\n",
    "interpreter = tf.lite.Interpreter(model_content=tflite_model)\n",
    "input_type = interpreter.get_input_details()[0]['dtype']\n",
    "print('input: ', input_type)\n",
    "output_type = interpreter.get_output_details()[0]['dtype']\n",
    "print('output: ', output_type)\n",
    "\n",
    "# import pathlib\n",
    "\n",
    "# tflite_models_dir = pathlib.Path(\"TFLmodels/\")\n",
    "# tflite_models_dir.mkdir(exist_ok=True, parents=True)\n",
    "\n",
    "\n",
    "# tflite_model_file = tflite_models_dir/\"MokePotNet.tflite\"\n",
    "# tflite_model_file.write_bytes(tflite_model)\n"
   ]
  },
  {
   "cell_type": "code",
   "execution_count": null,
   "metadata": {},
   "outputs": [],
   "source": []
  }
 ],
 "metadata": {
  "kernelspec": {
   "display_name": "Python 3 (ipykernel)",
   "language": "python",
   "name": "python3"
  },
  "language_info": {
   "codemirror_mode": {
    "name": "ipython",
    "version": 3
   },
   "file_extension": ".py",
   "mimetype": "text/x-python",
   "name": "python",
   "nbconvert_exporter": "python",
   "pygments_lexer": "ipython3",
   "version": "3.8.12"
  }
 },
 "nbformat": 4,
 "nbformat_minor": 4
}

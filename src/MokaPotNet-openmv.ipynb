{
 "cells": [
  {
   "cell_type": "code",
   "execution_count": 1,
   "metadata": {},
   "outputs": [
    {
     "name": "stdout",
     "output_type": "stream",
     "text": [
      "TF version: 2.3.0\n"
     ]
    }
   ],
   "source": [
    "# import the general stuff\n",
    "import os\n",
    "from os import getcwd\n",
    "import matplotlib.pyplot as plt\n",
    "import pandas as pd \n",
    "import numpy as np\n",
    "import math\n",
    "\n",
    "#import stuff for gradCAM\n",
    "import matplotlib.cm as cm\n",
    "from IPython.display import Image\n",
    "\n",
    "#import the tf stuff\n",
    "import tensorflow as tf\n",
    "from tensorflow.keras import layers\n",
    "from tensorflow.keras import Model\n",
    "\n",
    "from tensorflow.keras.preprocessing.image import ImageDataGenerator\n",
    "\n",
    "#Check TensorFlow Version\n",
    "print('TF version: {}' .format(tf.__version__))"
   ]
  },
  {
   "cell_type": "code",
   "execution_count": 2,
   "metadata": {},
   "outputs": [
    {
     "name": "stdout",
     "output_type": "stream",
     "text": [
      "No GPU\n"
     ]
    },
    {
     "name": "stderr",
     "output_type": "stream",
     "text": [
      "2022-01-27 11:44:48.680094: I tensorflow/core/platform/cpu_feature_guard.cc:142] This TensorFlow binary is optimized with oneAPI Deep Neural Network Library (oneDNN)to use the following CPU instructions in performance-critical operations:  SSE4.1 SSE4.2 AVX AVX2 AVX512F FMA\n",
      "To enable them in other operations, rebuild TensorFlow with the appropriate compiler flags.\n",
      "2022-01-27 11:44:48.700778: I tensorflow/core/platform/profile_utils/cpu_utils.cc:104] CPU Frequency: 2419200000 Hz\n",
      "2022-01-27 11:44:48.701553: I tensorflow/compiler/xla/service/service.cc:168] XLA service 0x56108f40de10 initialized for platform Host (this does not guarantee that XLA will be used). Devices:\n",
      "2022-01-27 11:44:48.701577: I tensorflow/compiler/xla/service/service.cc:176]   StreamExecutor device (0): Host, Default Version\n"
     ]
    }
   ],
   "source": [
    "#Check for GPU utilization\n",
    "if tf.test.gpu_device_name():\n",
    "    print(' GPU: {}'.format(tf.test.gpu_device_name()))\n",
    "else:\n",
    "    print(\"No GPU\")"
   ]
  },
  {
   "cell_type": "code",
   "execution_count": 3,
   "metadata": {},
   "outputs": [],
   "source": [
    "# define a callback\n",
    "\n",
    "callbacks = tf.keras.callbacks.EarlyStopping(monitor = 'val_acc', \n",
    "                                             patience = 15, \n",
    "                                             restore_best_weights = True)"
   ]
  },
  {
   "cell_type": "code",
   "execution_count": 5,
   "metadata": {},
   "outputs": [
    {
     "name": "stdout",
     "output_type": "stream",
     "text": [
      "Found 84 images belonging to 2 classes.\n",
      "Found 20 images belonging to 2 classes.\n"
     ]
    }
   ],
   "source": [
    "#build data generators for training and validaton\n",
    "\n",
    "split = 0.2\n",
    "\n",
    "total_train = 84\n",
    "total_val = 20\n",
    "\n",
    "\n",
    "# Define dirs and files\n",
    "train_data_dir = '../data/openmv'\n",
    "\n",
    "# Add our data-augmentation parameters to ImageDataGenerator and split data\n",
    "train_datagen = ImageDataGenerator(rescale =1./255.,\n",
    "                                   rotation_range = 45,\n",
    "                                   width_shift_range = 0.1,\n",
    "                                   height_shift_range = 0.1,\n",
    "                                   shear_range = 0.1,\n",
    "                                   horizontal_flip = True,\n",
    "                                   vertical_flip = True,\n",
    "                                   validation_split = split)\n",
    "\n",
    "\n",
    "#set batch Size\n",
    "batch_size = 16\n",
    "\n",
    "#set Image size (RGB so imshape is 3)\n",
    "pix_dim = 320\n",
    "imsize = (pix_dim,pix_dim) \n",
    "imshape = (pix_dim,pix_dim,3)\n",
    "\n",
    "# Flow training images in batches \n",
    "train_generator = train_datagen.flow_from_directory(train_data_dir,\n",
    "                                                    batch_size = batch_size,\n",
    "                                                    class_mode = 'categorical',\n",
    "                                                    color_mode = 'rgb',\n",
    "                                                    target_size = imsize,\n",
    "                                                    subset='training')\n",
    "\n",
    "# Flow validation images in batches \n",
    "validation_generator =  train_datagen.flow_from_directory(train_data_dir, # same directory as training data,\n",
    "                                                        batch_size = batch_size,\n",
    "                                                        class_mode = 'categorical',\n",
    "                                                        color_mode = 'rgb',\n",
    "                                                        target_size = imsize,\n",
    "                                                        subset='validation')"
   ]
  },
  {
   "cell_type": "code",
   "execution_count": 6,
   "metadata": {},
   "outputs": [],
   "source": [
    "# define the metrics\n",
    "acc_metric = tf.keras.metrics.BinaryAccuracy(name='acc')"
   ]
  },
  {
   "cell_type": "code",
   "execution_count": 7,
   "metadata": {},
   "outputs": [
    {
     "name": "stdout",
     "output_type": "stream",
     "text": [
      "Model: \"sequential\"\n",
      "_________________________________________________________________\n",
      "Layer (type)                 Output Shape              Param #   \n",
      "=================================================================\n",
      "conv2d (Conv2D)              (None, 160, 160, 16)      448       \n",
      "_________________________________________________________________\n",
      "max_pooling2d (MaxPooling2D) (None, 80, 80, 16)        0         \n",
      "_________________________________________________________________\n",
      "conv2d_1 (Conv2D)            (None, 40, 40, 32)        4640      \n",
      "_________________________________________________________________\n",
      "max_pooling2d_1 (MaxPooling2 (None, 20, 20, 32)        0         \n",
      "_________________________________________________________________\n",
      "conv2d_2 (Conv2D)            (None, 10, 10, 64)        18496     \n",
      "_________________________________________________________________\n",
      "max_pooling2d_2 (MaxPooling2 (None, 5, 5, 64)          0         \n",
      "_________________________________________________________________\n",
      "flatten (Flatten)            (None, 1600)              0         \n",
      "_________________________________________________________________\n",
      "dense (Dense)                (None, 128)               204928    \n",
      "_________________________________________________________________\n",
      "dropout (Dropout)            (None, 128)               0         \n",
      "_________________________________________________________________\n",
      "dense_1 (Dense)              (None, 64)                8256      \n",
      "_________________________________________________________________\n",
      "dropout_1 (Dropout)          (None, 64)                0         \n",
      "_________________________________________________________________\n",
      "dense_2 (Dense)              (None, 2)                 130       \n",
      "=================================================================\n",
      "Total params: 236,898\n",
      "Trainable params: 236,898\n",
      "Non-trainable params: 0\n",
      "_________________________________________________________________\n"
     ]
    }
   ],
   "source": [
    "model = tf.keras.Sequential([\n",
    "    layers.InputLayer(input_shape=imshape),\n",
    "    layers.Conv2D(filters=16, kernel_size=3, strides = 2, padding='same', activation='relu'),\n",
    "    layers.MaxPool2D(),\n",
    "    \n",
    "    layers.Conv2D(32, 3, strides = 2, padding='same', activation='relu'),\n",
    "    layers.MaxPool2D(),\n",
    "\n",
    "    layers.Conv2D(64, 3, strides = 2, padding='same', activation='relu'),\n",
    "    layers.MaxPool2D(),\n",
    "    \n",
    "    layers.Flatten(),\n",
    "    layers.Dense(128, activation='relu'),\n",
    "    layers.Dropout(0.5),\n",
    "    layers.Dense(64, activation='relu'),\n",
    "    layers.Dropout(0.5),\n",
    "    layers.Dense(2,activation = \"softmax\")\n",
    "])\n",
    "\n",
    "model.summary()"
   ]
  },
  {
   "cell_type": "code",
   "execution_count": 8,
   "metadata": {},
   "outputs": [],
   "source": [
    "#build the model\n",
    "model.compile(loss = 'categorical_crossentropy',\n",
    "              optimizer = tf.keras.optimizers.Adam(),\n",
    "              metrics = acc_metric)"
   ]
  },
  {
   "cell_type": "code",
   "execution_count": 9,
   "metadata": {},
   "outputs": [
    {
     "name": "stdout",
     "output_type": "stream",
     "text": [
      "Epoch 1/40\n",
      "5/5 [==============================] - 1s 257ms/step - loss: 0.7233 - acc: 0.3529 - val_loss: 0.6916 - val_acc: 0.5000\n",
      "Epoch 2/40\n",
      "5/5 [==============================] - 1s 213ms/step - loss: 0.6996 - acc: 0.5000 - val_loss: 0.6930 - val_acc: 0.5000\n",
      "Epoch 3/40\n",
      "5/5 [==============================] - 1s 205ms/step - loss: 0.7020 - acc: 0.4265 - val_loss: 0.6717 - val_acc: 0.6250\n",
      "Epoch 4/40\n",
      "5/5 [==============================] - 1s 204ms/step - loss: 0.7350 - acc: 0.3676 - val_loss: 0.6938 - val_acc: 0.4375\n",
      "Epoch 5/40\n",
      "5/5 [==============================] - 1s 230ms/step - loss: 0.6868 - acc: 0.5441 - val_loss: 0.6942 - val_acc: 0.5000\n",
      "Epoch 6/40\n",
      "5/5 [==============================] - 1s 217ms/step - loss: 0.6919 - acc: 0.5000 - val_loss: 0.6762 - val_acc: 0.5625\n",
      "Epoch 7/40\n",
      "5/5 [==============================] - 1s 223ms/step - loss: 0.6945 - acc: 0.4853 - val_loss: 0.6807 - val_acc: 0.5625\n",
      "Epoch 8/40\n",
      "5/5 [==============================] - 1s 211ms/step - loss: 0.6982 - acc: 0.4706 - val_loss: 0.6990 - val_acc: 0.4375\n",
      "Epoch 9/40\n",
      "5/5 [==============================] - 1s 237ms/step - loss: 0.6972 - acc: 0.4706 - val_loss: 0.6905 - val_acc: 0.4375\n",
      "Epoch 10/40\n",
      "5/5 [==============================] - 1s 261ms/step - loss: 0.6870 - acc: 0.5250 - val_loss: 0.6883 - val_acc: 0.8750\n",
      "Epoch 11/40\n",
      "5/5 [==============================] - 1s 222ms/step - loss: 0.6987 - acc: 0.4559 - val_loss: 0.6857 - val_acc: 0.8125\n",
      "Epoch 12/40\n",
      "5/5 [==============================] - 1s 234ms/step - loss: 0.6914 - acc: 0.4118 - val_loss: 0.6879 - val_acc: 0.7500\n",
      "Epoch 13/40\n",
      "5/5 [==============================] - 1s 218ms/step - loss: 0.6898 - acc: 0.6176 - val_loss: 0.6833 - val_acc: 0.8125\n",
      "Epoch 14/40\n",
      "5/5 [==============================] - 1s 220ms/step - loss: 0.6890 - acc: 0.5735 - val_loss: 0.6821 - val_acc: 0.6875\n",
      "Epoch 15/40\n",
      "5/5 [==============================] - 1s 222ms/step - loss: 0.6877 - acc: 0.6324 - val_loss: 0.6827 - val_acc: 0.6250\n",
      "Epoch 16/40\n",
      "5/5 [==============================] - 1s 229ms/step - loss: 0.6813 - acc: 0.6176 - val_loss: 0.6726 - val_acc: 0.9375\n",
      "Epoch 17/40\n",
      "5/5 [==============================] - 1s 257ms/step - loss: 0.6831 - acc: 0.6000 - val_loss: 0.6683 - val_acc: 0.6250\n",
      "Epoch 18/40\n",
      "5/5 [==============================] - 1s 234ms/step - loss: 0.6741 - acc: 0.5735 - val_loss: 0.6645 - val_acc: 0.5625\n",
      "Epoch 19/40\n",
      "5/5 [==============================] - 1s 217ms/step - loss: 0.6553 - acc: 0.7059 - val_loss: 0.6245 - val_acc: 0.9375\n",
      "Epoch 20/40\n",
      "5/5 [==============================] - 1s 263ms/step - loss: 0.6424 - acc: 0.6625 - val_loss: 0.5769 - val_acc: 0.8750\n",
      "Epoch 21/40\n",
      "5/5 [==============================] - 1s 261ms/step - loss: 0.6334 - acc: 0.6625 - val_loss: 0.5116 - val_acc: 0.9375\n",
      "Epoch 22/40\n",
      "5/5 [==============================] - 1s 237ms/step - loss: 0.5134 - acc: 0.8971 - val_loss: 0.3938 - val_acc: 1.0000\n",
      "Epoch 23/40\n",
      "5/5 [==============================] - 1s 235ms/step - loss: 0.5242 - acc: 0.7794 - val_loss: 0.3594 - val_acc: 1.0000\n",
      "Epoch 24/40\n",
      "5/5 [==============================] - 1s 256ms/step - loss: 0.3984 - acc: 0.8375 - val_loss: 0.1954 - val_acc: 0.9375\n",
      "Epoch 25/40\n",
      "5/5 [==============================] - 1s 236ms/step - loss: 0.4042 - acc: 0.7794 - val_loss: 0.2012 - val_acc: 1.0000\n",
      "Epoch 26/40\n",
      "5/5 [==============================] - 1s 240ms/step - loss: 0.4337 - acc: 0.8088 - val_loss: 0.2488 - val_acc: 0.9375\n",
      "Epoch 27/40\n",
      "5/5 [==============================] - 1s 223ms/step - loss: 0.3476 - acc: 0.8529 - val_loss: 0.2067 - val_acc: 1.0000\n",
      "Epoch 28/40\n",
      "5/5 [==============================] - 1s 266ms/step - loss: 0.2651 - acc: 0.9559 - val_loss: 0.1098 - val_acc: 1.0000\n",
      "Epoch 29/40\n",
      "5/5 [==============================] - 1s 223ms/step - loss: 0.2091 - acc: 0.9559 - val_loss: 0.0573 - val_acc: 1.0000\n",
      "Epoch 30/40\n",
      "5/5 [==============================] - 1s 225ms/step - loss: 0.2301 - acc: 0.8824 - val_loss: 0.0434 - val_acc: 1.0000\n",
      "Epoch 31/40\n",
      "5/5 [==============================] - 1s 230ms/step - loss: 0.2141 - acc: 0.9265 - val_loss: 0.0122 - val_acc: 1.0000\n",
      "Epoch 32/40\n",
      "5/5 [==============================] - 1s 262ms/step - loss: 0.2687 - acc: 0.8625 - val_loss: 0.0381 - val_acc: 1.0000\n",
      "Epoch 33/40\n",
      "5/5 [==============================] - 1s 215ms/step - loss: 0.2844 - acc: 0.9265 - val_loss: 0.0481 - val_acc: 1.0000\n",
      "Epoch 34/40\n",
      "5/5 [==============================] - 1s 227ms/step - loss: 0.1423 - acc: 0.9706 - val_loss: 0.0156 - val_acc: 1.0000\n",
      "Epoch 35/40\n",
      "5/5 [==============================] - 1s 226ms/step - loss: 0.0972 - acc: 0.9706 - val_loss: 0.0123 - val_acc: 1.0000\n",
      "Epoch 36/40\n",
      "5/5 [==============================] - 1s 228ms/step - loss: 0.0734 - acc: 0.9559 - val_loss: 0.0118 - val_acc: 1.0000\n",
      "Epoch 37/40\n",
      "5/5 [==============================] - 1s 230ms/step - loss: 0.0733 - acc: 1.0000 - val_loss: 0.0070 - val_acc: 1.0000\n"
     ]
    }
   ],
   "source": [
    "#train the model\n",
    "history = model.fit(train_generator,\n",
    "                    steps_per_epoch = total_train // batch_size,\n",
    "                    validation_data = validation_generator,\n",
    "                    epochs= 40,\n",
    "                    validation_steps =  total_val // batch_size,\n",
    "                    callbacks =[callbacks])"
   ]
  },
  {
   "cell_type": "code",
   "execution_count": 10,
   "metadata": {},
   "outputs": [
    {
     "data": {
      "image/png": "[encoded data removed]",
      "text/plain": [
       "<Figure size 432x288 with 1 Axes>"
      ]
     },
     "metadata": {
      "needs_background": "light"
     },
     "output_type": "display_data"
    },
    {
     "data": {
      "text/plain": [
       "<Figure size 432x288 with 0 Axes>"
      ]
     },
     "metadata": {},
     "output_type": "display_data"
    },
    {
     "data": {
      "image/png": "[encoded data removed]",
      "text/plain": [
       "<Figure size 432x288 with 1 Axes>"
      ]
     },
     "metadata": {
      "needs_background": "light"
     },
     "output_type": "display_data"
    },
    {
     "data": {
      "text/plain": [
       "<Figure size 432x288 with 0 Axes>"
      ]
     },
     "metadata": {},
     "output_type": "display_data"
    }
   ],
   "source": [
    "#look at the metrics from training\n",
    "%matplotlib inline\n",
    "\n",
    "acc = history.history['acc']\n",
    "val_acc = history.history['val_acc']\n",
    "loss = history.history['loss']\n",
    "val_loss = history.history['val_loss']\n",
    "\n",
    "epochs = range(len(acc))\n",
    "\n",
    "plt.plot(epochs, acc, 'r', label='Training accuracy')\n",
    "plt.plot(epochs, val_acc, 'b', label='Validation accuracy')\n",
    "\n",
    "plt.title('Training and validation accuracy')\n",
    "plt.legend(loc=0)\n",
    "plt.figure()\n",
    "plt.show()\n",
    "\n",
    "plt.plot(epochs, loss, 'r--', label='Training loss')\n",
    "plt.plot(epochs, val_loss, 'b--', label='Validation loss')\n",
    "plt.title('Training and validation loss') \n",
    "plt.legend(loc=0)\n",
    "plt.figure()\n",
    "plt.show()"
   ]
  },
  {
   "cell_type": "code",
   "execution_count": 11,
   "metadata": {},
   "outputs": [
    {
     "name": "stdout",
     "output_type": "stream",
     "text": [
      "WARNING:tensorflow:From /home/ebgoldstein/anaconda3/envs/tf23/lib/python3.8/site-packages/tensorflow/python/training/tracking/tracking.py:111: Model.state_updates (from tensorflow.python.keras.engine.training) is deprecated and will be removed in a future version.\n",
      "Instructions for updating:\n",
      "This property should not be used in TensorFlow 2.0, as updates are applied automatically.\n",
      "WARNING:tensorflow:From /home/ebgoldstein/anaconda3/envs/tf23/lib/python3.8/site-packages/tensorflow/python/training/tracking/tracking.py:111: Layer.updates (from tensorflow.python.keras.engine.base_layer) is deprecated and will be removed in a future version.\n",
      "Instructions for updating:\n",
      "This property should not be used in TensorFlow 2.0, as updates are applied automatically.\n"
     ]
    },
    {
     "name": "stderr",
     "output_type": "stream",
     "text": [
      "2022-01-27 11:46:08.069726: W tensorflow/python/util/util.cc:348] Sets are not currently considered sequences, but this may change in the future, so consider avoiding using them.\n"
     ]
    },
    {
     "name": "stdout",
     "output_type": "stream",
     "text": [
      "INFO:tensorflow:Assets written to: ./models/MokaPotNet_tf23_cat_OMV/assets\n"
     ]
    }
   ],
   "source": [
    "#save the model\n",
    "filepath = './models/MokaPotNet_tf23_cat_OMV'\n",
    "model.save(filepath)\n"
   ]
  },
  {
   "cell_type": "code",
   "execution_count": 12,
   "metadata": {},
   "outputs": [
    {
     "name": "stdout",
     "output_type": "stream",
     "text": [
      "INFO:tensorflow:Assets written to: /tmp/tmpoaoysiz7/assets\n"
     ]
    },
    {
     "name": "stderr",
     "output_type": "stream",
     "text": [
      "2022-01-27 11:46:09.353473: I tensorflow/core/grappler/devices.cc:78] Number of eligible GPUs (core count >= 8, compute capability >= 0.0): 0 (Note: TensorFlow was not compiled with CUDA or ROCm support)\n",
      "2022-01-27 11:46:09.353558: I tensorflow/core/grappler/clusters/single_machine.cc:356] Starting new session\n",
      "2022-01-27 11:46:09.355066: I tensorflow/core/grappler/optimizers/meta_optimizer.cc:816] Optimization results for grappler item: graph_to_optimize\n",
      "2022-01-27 11:46:09.355078: I tensorflow/core/grappler/optimizers/meta_optimizer.cc:818]   function_optimizer: function_optimizer did nothing. time = 0.002ms.\n",
      "2022-01-27 11:46:09.355081: I tensorflow/core/grappler/optimizers/meta_optimizer.cc:818]   function_optimizer: function_optimizer did nothing. time = 0ms.\n",
      "2022-01-27 11:46:09.387742: W tensorflow/compiler/mlir/lite/python/tf_tfl_flatbuffer_helpers.cc:313] Ignored output_format.\n",
      "2022-01-27 11:46:09.387771: W tensorflow/compiler/mlir/lite/python/tf_tfl_flatbuffer_helpers.cc:316] Ignored drop_control_dependency.\n"
     ]
    },
    {
     "name": "stdout",
     "output_type": "stream",
     "text": [
      "(84, 320, 320, 3)\n",
      "input:  <class 'numpy.int8'>\n",
      "output:  <class 'numpy.int8'>\n"
     ]
    }
   ],
   "source": [
    "# #quantize\n",
    "\n",
    "converter = tf.lite.TFLiteConverter.from_keras_model(model)\n",
    "\n",
    "converter.optimizations = [tf.lite.Optimize.DEFAULT]\n",
    "\n",
    "\n",
    "\n",
    "num_calibration_steps = 1\n",
    "def representative_dataset_gen():\n",
    "    for _ in range(num_calibration_steps):\n",
    "        # Get sample input data as a numpy array in a method of your choosing.\n",
    "        ## Ideally we should do a validation calibration but we are using all of the training data for max acc\n",
    "#         x =np.concatenate([validation_generator.next()[0] for i in range(validation_generator.__len__())])\n",
    "        x =np.concatenate([train_generator.next()[0] for i in range(train_generator.__len__())])\n",
    "        print(x.shape)\n",
    "        yield [x]\n",
    "converter.representative_dataset = representative_dataset_gen\n",
    "\n",
    "\n",
    "converter.target_spec.supported_ops = [tf.lite.OpsSet.TFLITE_BUILTINS_INT8]\n",
    "converter.inference_input_type = tf.int8  # or tf.uint8\n",
    "converter.inference_output_type = tf.int8  # or tf.uint8\n",
    "\n",
    "tflite_model = converter.convert()\n",
    "\n",
    "with open('MokaPotNet_cat_OMV.tflite','wb') as f:\n",
    "    f.write(tflite_model)\n",
    "\n",
    "interpreter = tf.lite.Interpreter(model_content=tflite_model)\n",
    "input_type = interpreter.get_input_details()[0]['dtype']\n",
    "print('input: ', input_type)\n",
    "output_type = interpreter.get_output_details()[0]['dtype']\n",
    "print('output: ', output_type)\n",
    "\n",
    "# import pathlib\n",
    "\n",
    "# tflite_models_dir = pathlib.Path(\"TFLmodels/\")\n",
    "# tflite_models_dir.mkdir(exist_ok=True, parents=True)\n",
    "\n",
    "\n",
    "# tflite_model_file = tflite_models_dir/\"MokePotNet.tflite\"\n",
    "# tflite_model_file.write_bytes(tflite_model)\n"
   ]
  },
  {
   "cell_type": "code",
   "execution_count": null,
   "metadata": {},
   "outputs": [],
   "source": []
  }
 ],
 "metadata": {
  "kernelspec": {
   "display_name": "Python 3 (ipykernel)",
   "language": "python",
   "name": "python3"
  },
  "language_info": {
   "codemirror_mode": {
    "name": "ipython",
    "version": 3
   },
   "file_extension": ".py",
   "mimetype": "text/x-python",
   "name": "python",
   "nbconvert_exporter": "python",
   "pygments_lexer": "ipython3",
   "version": "3.8.12"
  }
 },
 "nbformat": 4,
 "nbformat_minor": 4
}
